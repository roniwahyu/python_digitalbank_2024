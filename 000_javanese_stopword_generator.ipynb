{
 "cells": [
  {
   "cell_type": "code",
   "execution_count": 10,
   "metadata": {},
   "outputs": [
    {
     "name": "stderr",
     "output_type": "stream",
     "text": [
      "[nltk_data] Downloading package stopwords to\n",
      "[nltk_data]     C:\\Users\\LENOVO\\AppData\\Roaming\\nltk_data...\n",
      "[nltk_data]   Package stopwords is already up-to-date!\n"
     ]
    },
    {
     "data": {
      "text/plain": [
       "True"
      ]
     },
     "execution_count": 10,
     "metadata": {},
     "output_type": "execute_result"
    }
   ],
   "source": [
    "from nltk.corpus import stopwords\n",
    "import pandas as pd\n",
    "# english_stopwords = stopwords.words(language)\n",
    "import nltk\n",
    "from googletrans import Translator\n",
    "\n",
    "# Download the stopwords dataset if not already downloaded\n",
    "nltk.download('stopwords')\n"
   ]
  },
  {
   "cell_type": "code",
   "execution_count": null,
   "metadata": {},
   "outputs": [],
   "source": [
    "\n",
    "# Retrieve the English stopwords from NLTK\n",
    "english_stopwords = nltk.corpus.stopwords.words('english')\n",
    "\n",
    "# Initialize the Google Translator\n",
    "translator = Translator()\n",
    "\n",
    "# Translate English stopwords to Javanese\n",
    "javanese_stopwords = []\n",
    "for word in english_stopwords:\n",
    "    translation = translator.translate(word, src='en', dest='jw').text\n",
    "    javanese_stopwords.append(translation)\n",
    "\n",
    "# Print the generated Javanese stopwords\n",
    "print(javanese_stopwords)"
   ]
  },
  {
   "cell_type": "code",
   "execution_count": 8,
   "metadata": {},
   "outputs": [
    {
     "name": "stdout",
     "output_type": "stream",
     "text": [
      "['arabic', 'azerbaijani', 'basque', 'bengali', 'catalan', 'chinese', 'danish', 'dutch', 'english', 'finnish', 'french', 'german', 'greek', 'hebrew', 'hinglish', 'hungarian', 'indonesian', 'italian', 'kazakh', 'nepali', 'norwegian', 'portuguese', 'romanian', 'russian', 'slovene', 'spanish', 'swedish', 'tajik', 'turkish']\n"
     ]
    }
   ],
   "source": [
    "print(stopwords.fileids())"
   ]
  },
  {
   "cell_type": "code",
   "execution_count": 5,
   "metadata": {},
   "outputs": [],
   "source": [
    "# Save Javanese stopwords to a .txt file\n",
    "txt_file_path = 'dataset/javanese_stopwords.txt'\n",
    "with open(txt_file_path, 'w') as file:\n",
    "    for word in javanese_stopwords:\n",
    "        file.write(f\"{word}\\n\")"
   ]
  },
  {
   "cell_type": "code",
   "execution_count": 11,
   "metadata": {},
   "outputs": [],
   "source": [
    "# Save Javanese stopwords to a .csv file\n",
    "csv_file_path = 'dataset/javanese_stopwords.csv'\n",
    "javanese_stopwords_df = pd.DataFrame(javanese_stopwords, columns=['Stopwords'])\n",
    "javanese_stopwords_df.to_csv(csv_file_path, index=False)"
   ]
  },
  {
   "cell_type": "code",
   "execution_count": 12,
   "metadata": {},
   "outputs": [
    {
     "data": {
      "text/plain": [
       "'dataset/indonesian_stopwords.txt'"
      ]
     },
     "execution_count": 12,
     "metadata": {},
     "output_type": "execute_result"
    }
   ],
   "source": [
    "# Get Indonesian stopwords\n",
    "indonesian_stopwords = stopwords.words('indonesian')\n",
    "\n",
    "# Save the Indonesian stopwords to a text file\n",
    "stopwords_file_path = 'dataset/indonesian_stopwords.txt'\n",
    "with open(stopwords_file_path, 'w') as file:\n",
    "    for word in indonesian_stopwords:\n",
    "        file.write(f\"{word}\\n\")\n",
    "\n",
    "stopwords_file_path"
   ]
  }
 ],
 "metadata": {
  "kernelspec": {
   "display_name": "Python 3",
   "language": "python",
   "name": "python3"
  },
  "language_info": {
   "codemirror_mode": {
    "name": "ipython",
    "version": 3
   },
   "file_extension": ".py",
   "mimetype": "text/x-python",
   "name": "python",
   "nbconvert_exporter": "python",
   "pygments_lexer": "ipython3",
   "version": "3.12.3"
  }
 },
 "nbformat": 4,
 "nbformat_minor": 2
}
